{
 "cells": [
  {
   "cell_type": "code",
   "execution_count": null,
   "metadata": {
    "collapsed": false
   },
   "outputs": [],
   "source": [
    "%reload_ext autoreload\n",
    "%autoreload 2\n",
    "import os\n",
    "os.environ[\"THEANO_FLAGS\"] = \"device=gpu1\"\n",
    "#os.environ[\"CPATH\"] = \"/home/gridcl/mehdicherti/build/cuda/include/\"\n",
    "#os.environ[\"LIBRARY_PATH\"] = \"/home/gridcl/mehdicherti/build/cuda/lib64/\"\n",
    "\n",
    "import numpy as np\n",
    "import cPickle as pickle\n",
    "%matplotlib inline\n",
    "\n",
    "import scipy.ndimage as nd\n",
    "from lasagnekit.misc.draw_net import draw_to_notebook, draw_to_file\n",
    "from lasagnekit.misc.plot_weights import grid_plot\n",
    "from lasagnekit.misc.dream import build_dreamer\n",
    "from lasagnekit.easy import LightweightModel, BatchOptimizer\n",
    "\n",
    "from lasagne import layers, updates\n",
    "\n",
    "from IPython.display import SVG\n",
    "\n",
    "import theano\n",
    "import theano.tensor as T\n",
    "\n",
    "from skimage.io import imread\n",
    "from skimage.transform import resize\n",
    "\n",
    "from lasagnekit.easy import get_stat\n",
    "\n",
    "import matplotlib.pyplot as plt\n",
    "\n",
    "from scipy.ndimage import gaussian_filter\n",
    "from lasagne.layers import InputLayer, DenseLayer, NonlinearityLayer\n",
    "from lasagne.layers import Conv2DLayer as ConvLayer\n",
    "from lasagne.layers import Pool2DLayer as PoolLayer\n",
    "from lasagne.nonlinearities import softmax\n",
    "\n",
    "import pprint\n",
    "\n"
   ]
  },
  {
   "cell_type": "code",
   "execution_count": null,
   "metadata": {
    "collapsed": false
   },
   "outputs": [],
   "source": [
    "\n",
    "import PIL\n",
    "\n",
    "from cStringIO import StringIO\n",
    "import PIL.Image\n",
    "from IPython.display import clear_output, Image, display\n",
    "\n",
    "def showarray(a, fmt='jpeg'):\n",
    "    a = np.uint8(np.clip(a, 0, 255))\n",
    "    f = StringIO()\n",
    "    PIL.Image.fromarray(a).save(f, fmt)\n",
    "    display(Image(data=f.getvalue()))\n",
    "    \n",
    "def preprocess(mv, img):\n",
    "    return np.float32(np.rollaxis(img, 2)[::-1]) - mv\n",
    "def deprocess(mv, img):\n",
    "    return np.dstack((img + mv)[::-1])"
   ]
  },
  {
   "cell_type": "code",
   "execution_count": null,
   "metadata": {
    "collapsed": false
   },
   "outputs": [],
   "source": [
    "import vgg19, googlenet\n",
    "\n",
    "model_name = \"vgg\"\n",
    "\n",
    "if model_name == \"vgg\":\n",
    "    build_model = vgg19.build_model\n",
    "    model_filename = \"/home/mcherti/work/data/zoo/vgg19.pkl\"\n",
    "elif model_name == \"googlenet\":\n",
    "    build_model = googlenet.build_model\n",
    "    model_filename = \"/home/mcherti/work/data/zoo/blvc_googlenet.pkl\""
   ]
  },
  {
   "cell_type": "code",
   "execution_count": null,
   "metadata": {
    "collapsed": false
   },
   "outputs": [],
   "source": [
    "# build ggl net and load weights\n",
    "net = build_model()\n",
    "model_data = pickle.load(open(model_filename))\n",
    "values = model_data['param values']\n",
    "layers.set_all_param_values(net['prob'], values)"
   ]
  },
  {
   "cell_type": "code",
   "execution_count": null,
   "metadata": {
    "collapsed": false
   },
   "outputs": [],
   "source": [
    "pprint.pprint(net.keys())"
   ]
  },
  {
   "cell_type": "code",
   "execution_count": null,
   "metadata": {
    "collapsed": false
   },
   "outputs": [],
   "source": [
    "model = net\n",
    "classes = np.array(model_data[\"synset words\"])\n",
    "\n",
    "if \"mean value\" in model_data:\n",
    "    mean_value = (model_data[\"mean value\"])\n",
    "else:\n",
    "    mean_value = np.array([104.0, 116.0, 122.0])\n",
    "\n",
    "mean_value = mean_value[:, np.newaxis, np.newaxis]"
   ]
  },
  {
   "cell_type": "code",
   "execution_count": null,
   "metadata": {
    "collapsed": false
   },
   "outputs": [],
   "source": [
    "draw_to_file(layers.get_all_layers(model['prob']), \"{0}.svg\".format(model_name))"
   ]
  },
  {
   "cell_type": "code",
   "execution_count": null,
   "metadata": {
    "collapsed": false,
    "scrolled": true
   },
   "outputs": [],
   "source": [
    "SVG(\"{0}.svg\".format(model_name))"
   ]
  },
  {
   "cell_type": "markdown",
   "metadata": {},
   "source": [
    "##MultiDeepDream"
   ]
  },
  {
   "cell_type": "code",
   "execution_count": null,
   "metadata": {
    "collapsed": false
   },
   "outputs": [],
   "source": [
    "t_generated_image = T.tensor4()\n",
    "t_input_images = T.tensor4()\n",
    "def total_variation_loss(x):\n",
    "    return (((x[:,:,:-1,:-1] - x[:,:,1:,:-1])**2 + (x[:,:,:-1,:-1] - x[:,:,:-1,1:])**2)**1.25).sum()\n",
    "\n",
    "def gram_matrix(x):\n",
    "    x = x.flatten(ndim=3)\n",
    "    g = T.tensordot(x, x, axes=([2], [2]))\n",
    "    return g\n",
    "\n",
    "if model_name == \"googlenet\":\n",
    "    end_layers = [\"inception_3a/output\", \"inception_3b/output\"]\n",
    "    \"\"\"\n",
    "    end_layers = [#'conv1/7x7_s2', \n",
    "                  'conv2/3x3', \n",
    "                  'inception_3a/output',  \n",
    "                  'inception_3b/output', \n",
    "                  'inception_4a/output', \n",
    "                  'inception_4b/output', \n",
    "                  'inception_4c/output']\n",
    "    end_layers += [\n",
    "        'inception_5b/3x3', \n",
    "        'inception_5b/3x3_reduce', \n",
    "        'inception_5b/pool', \n",
    "        'inception_5b/output', \n",
    "        'inception_5b/5x5', \n",
    "        'inception_5b/1x1', \n",
    "        'inception_5b/pool_proj'\n",
    "    ]\n",
    "    \"\"\"\n",
    "elif model_name == \"vgg\":\n",
    "    end_layers = ['conv4_1', 'conv5_1']\n",
    "\n",
    "L = 0\n",
    "L_from_hidden = 0\n",
    "t_hidden = []\n",
    "all_hidden_outputs = []\n",
    "for layer_name in end_layers:    \n",
    "    o_input_images = layers.get_output(model[layer_name], t_input_images)\n",
    "    all_hidden_outputs.append(o_input_images)\n",
    "    o_generated_image = layers.get_output(model[layer_name], t_generated_image)\n",
    "    #o_generated_image = layers.get_output(model[layer_name], t_generated_image).mean(axis=0)\n",
    "    L += 0.5 * ((o_input_images - o_generated_image)**2).sum()\n",
    "\n",
    "    #hidden = T.TensorType('float32', (True,) * o_generated_image.ndim )\n",
    "    hidden = T.tensor4()\n",
    "    t_hidden.append(hidden)\n",
    "    \n",
    "    if layer_name == \"conv4_1d\":\n",
    "        representation = lambda x:x\n",
    "        coef = 0.001\n",
    "    else:\n",
    "        representation = gram_matrix\n",
    "        coef = 0.001\n",
    "    \n",
    "    L_from_hidden += 0.5 * coef * (( representation(hidden) - representation(o_generated_image))  ** 2).sum()\n",
    "\n",
    "    \n",
    "L_from_hidden += 0.1e-7*total_variation_loss(o_generated_image)\n",
    "#L += -(layers.get_output(model[\"prob\"], t_generated_image)**2).sum()\n",
    "\n",
    "get_grad = theano.function([t_input_images, t_generated_image], theano.grad(L, t_generated_image))\n",
    "get_grad_from_hidden = theano.function([t_generated_image] +  t_hidden,\n",
    "                                       theano.grad(L_from_hidden, t_generated_image))\n",
    "                                       \n",
    "get_loss =  theano.function([t_input_images, t_generated_image], L)\n",
    "get_loss_from_hidden = theano.function([t_generated_image] + t_hidden, L_from_hidden)\n",
    "get_hidden = theano.function([t_input_images], all_hidden_outputs)\n"
   ]
  },
  {
   "cell_type": "code",
   "execution_count": null,
   "metadata": {
    "collapsed": false
   },
   "outputs": [],
   "source": [
    "h, w = 300, 300"
   ]
  },
  {
   "cell_type": "code",
   "execution_count": null,
   "metadata": {
    "collapsed": false
   },
   "outputs": [],
   "source": [
    "images = [\n",
    "    #np.float32(PIL.Image.open('sample4.png')),\n",
    "    np.float32(PIL.Image.open('canard.jpg')),\n",
    "    np.float32(PIL.Image.open('aigle.jpg')),\n",
    "]\n",
    "#showarray(PIL.Image.open('sample2.png'))\n",
    "\n",
    "generated_image = np.random.uniform(0, 255, size=images[0].shape)\n",
    "#generated_image = resize(np.float32(PIL.Image.open('sample.png')), (h, w), preserve_range=True)\n",
    "\n",
    "generated_image = preprocess(mean_value, generated_image).astype(np.float32)\n",
    "generated_image = resize(generated_image, (3, h, w), preserve_range=True).astype(np.float32)\n",
    "generated_image = generated_image[np.newaxis, :, :, :]\n",
    "\n",
    "images = [preprocess(mean_value, image).astype(np.float32) for image in images]\n",
    "images = [resize(image, (3, h, w), preserve_range=True).astype(np.float32) for image in images]"
   ]
  },
  {
   "cell_type": "code",
   "execution_count": null,
   "metadata": {
    "collapsed": false
   },
   "outputs": [],
   "source": [
    "initialize_with_mean = False\n",
    "\n",
    "if initialize_with_mean is True:\n",
    "    generated_image = np.zeros(images[0].shape)\n",
    "    for im in images[0:1]:\n",
    "        generated_image += im\n",
    "    generated_image /= len(images)\n",
    "    generated_image = generated_image.astype(np.float32)\n",
    "    generated_image = generated_image[np.newaxis, :, :, :]"
   ]
  },
  {
   "cell_type": "code",
   "execution_count": null,
   "metadata": {
    "collapsed": false
   },
   "outputs": [],
   "source": [
    "input_images = np.array(images)"
   ]
  },
  {
   "cell_type": "code",
   "execution_count": null,
   "metadata": {
    "collapsed": false
   },
   "outputs": [],
   "source": [
    "#l = get_loss(input_images, generated_image)\n",
    "#h = get_hidden(generated_image)\n",
    "#get_grad_from_hidden(generated_image, h)\n",
    "#for lbfgs\n",
    "from scipy.optimize import fmin_l_bfgs_b\n",
    "def eval_loss(x0):\n",
    "    x0 = (x0.reshape((1, 3, h, w))).astype(np.float32)\n",
    "    generated_image_[:] = x0\n",
    "    return get_loss_from_hidden(x0, *hidden_layers).astype(np.float64)\n",
    "\n",
    "def eval_grad(x0):\n",
    "    x0 = (x0.reshape((1, 3, h, w))).astype(np.float32)\n",
    "    g = get_grad_from_hidden(x0, *hidden_layers)\n",
    "    generated_image_[:] = x0\n",
    "    return g.flatten().astype(np.float64)"
   ]
  },
  {
   "cell_type": "code",
   "execution_count": null,
   "metadata": {
    "collapsed": false
   },
   "outputs": [],
   "source": [
    "alpha = 0.01\n",
    "use_lbfgs = True\n",
    "generated_image_ = generated_image.copy()\n",
    "curve = []\n",
    "l = None\n",
    "frames = []\n",
    "nb_times = 20\n",
    "\n",
    "hidden_layers_orig = get_hidden(images)\n",
    "#print(hidden_layers_orig[0][0].shape)\n",
    "#print(get_hidden(generated_image_)[0][0].shape)\n",
    "\n",
    "for hidden in range(nb_times):\n",
    "    #generated_image_ = generated_image.copy()\n",
    "\n",
    "    print(\"Frame {}\".format(hidden))\n",
    "    hidden_layers = get_hidden(generated_image_)\n",
    "    #print(hidden_layers[0].shape)\n",
    "    #break\n",
    "    #transform hidden layers here\n",
    "    A = float(hidden) / nb_times\n",
    "    #A = 0.5\n",
    "    #A=0.5\n",
    "    for i, hidden_layer in enumerate(hidden_layers):\n",
    "        \n",
    "        #if i == 2:\n",
    "        #    hidden_layers[i][0] = hidden_layers_orig[i][0]\n",
    "        #else:\n",
    "        hidden_layers[i][0] = (1-A)*hidden_layers_orig[i][0] + A*hidden_layers_orig[i][1]\n",
    "    for i in range(10):\n",
    "        if use_lbfgs is True:      \n",
    "            x0, _, _ = fmin_l_bfgs_b(eval_loss, \n",
    "                                     generated_image_.flatten(), \n",
    "                                     fprime=eval_grad, maxfun=50)\n",
    "            generated_image_[:] = (x0.reshape(generated_image_.shape).astype(np.float32))\n",
    "        else:\n",
    "            # just use gradient descent if use_lbfgs is False\n",
    "            # get gradient w.r.t the input\n",
    "            g = get_grad_from_hidden(generated_image_, *hidden_layers)\n",
    "            generated_image_ -= alpha * g    \n",
    "\n",
    "        l = get_loss_from_hidden(generated_image_, *hidden_layers)\n",
    "        curve.append(l)\n",
    "        if i % 1==0:\n",
    "            print(l)\n",
    "        out = deprocess(mean_value, generated_image_[0])\n",
    "        out = np.uint8(np.clip(out, 0, 255))\n",
    "        frames.append(out)\n",
    "        if i % 10==0:\n",
    "            fig = plt.figure(figsize=(10, 10))        \n",
    "            plt.title(\"generated\")\n",
    "            plt.imshow(out)\n",
    "            plt.axis('off')\n",
    "            plt.tight_layout()\n",
    "            plt.show()"
   ]
  },
  {
   "cell_type": "code",
   "execution_count": null,
   "metadata": {
    "collapsed": false
   },
   "outputs": [],
   "source": [
    "plt.xlabel(\"iteration\")\n",
    "plt.ylabel(\"activation value\")\n",
    "plt.plot(curve)"
   ]
  },
  {
   "cell_type": "code",
   "execution_count": null,
   "metadata": {
    "collapsed": false
   },
   "outputs": [],
   "source": [
    "import matplotlib.animation as animation\n",
    "\n",
    "class SubplotAnimation(animation.TimedAnimation):\n",
    "    def __init__(self):\n",
    "        fig = plt.figure()\n",
    "        ax = fig.add_subplot(1, 1, 1)\n",
    "        \n",
    "        self.img1 = ax.imshow(np.random.uniform(0, 1, (h, w)), \n",
    "                               vmin=0, vmax=255, \n",
    "                               interpolation='none')\n",
    "        animation.TimedAnimation.__init__(self, fig, interval=1000, blit=True)\n",
    "\n",
    "    def _draw_frame(self, framedata):\n",
    "        i = framedata\n",
    "        self.img1.set_data(  frames[i] )\n",
    "        self._drawn_artists = [self.img1]\n",
    "\n",
    "    def new_frame_seq(self):\n",
    "        return iter(range(len(frames)))\n",
    "\n",
    "    def _init_draw(self):\n",
    "         pass\n",
    "ani = SubplotAnimation()\n",
    "ani.save('video.mp4', fps=20)\n",
    "plt.show()"
   ]
  },
  {
   "cell_type": "code",
   "execution_count": null,
   "metadata": {
    "collapsed": true
   },
   "outputs": [],
   "source": []
  },
  {
   "cell_type": "code",
   "execution_count": null,
   "metadata": {
    "collapsed": true
   },
   "outputs": [],
   "source": []
  }
 ],
 "metadata": {
  "kernelspec": {
   "display_name": "Python 2",
   "language": "python",
   "name": "python2"
  },
  "language_info": {
   "codemirror_mode": {
    "name": "ipython",
    "version": 2
   },
   "file_extension": ".py",
   "mimetype": "text/x-python",
   "name": "python",
   "nbconvert_exporter": "python",
   "pygments_lexer": "ipython2",
   "version": "2.7.10"
  }
 },
 "nbformat": 4,
 "nbformat_minor": 0
}
