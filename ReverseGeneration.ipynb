{
 "cells": [
  {
   "cell_type": "code",
   "execution_count": null,
   "metadata": {
    "collapsed": true
   },
   "outputs": [],
   "source": [
    "input_images = X[y==2][0:100]\n",
    "H = theano.shared(\n",
    "    #np.random.normal(size=(input_images.shape[0], latent_size)).astype(np.float32)\n",
    "    capsule.get_latent(input_images)\n",
    ")"
   ]
  },
  {
   "cell_type": "code",
   "execution_count": null,
   "metadata": {
    "collapsed": true
   },
   "outputs": [],
   "source": [
    "input_variables = OrderedDict()\n",
    "input_variables[\"input_image\"] = dict(tensor_type=T.matrix)\n",
    "class ModelReverseGeneration:\n",
    "    def get_all_params(self, **t):\n",
    "        return [H]\n",
    "\n",
    "model_reverse =   ModelReverseGeneration()\n",
    "model_reverse.x_to_z = x_to_z\n",
    "model_reverse.z_to_x = z_to_x\n",
    "\n",
    "def loss_function_reverse(model, tensors):\n",
    "    input_image = tensors[\"input_image\"]    \n",
    "    output = get_output_from_latent(model, H)    \n",
    "    recons = ((input_image - output) ** 2).sum(axis=1).mean()\n",
    "    print(recons.ndim)\n",
    "    return recons\n",
    "\n",
    "batch_optimizer = MyBatchOptimizer(\n",
    "    verbose=1,\n",
    "    max_nb_epochs=2000,\n",
    "    batch_size=100,\n",
    "    optimization_procedure=(updates.adadelta, \n",
    "                            {\"learning_rate\": 0.01})\n",
    ")\n",
    "\n",
    "capsule_reverse = Capsule(\n",
    "    input_variables, \n",
    "    model_reverse,\n",
    "    loss_function_reverse,\n",
    "    functions=functions,\n",
    "    batch_optimizer=batch_optimizer,\n",
    ")"
   ]
  },
  {
   "cell_type": "code",
   "execution_count": null,
   "metadata": {
    "collapsed": true
   },
   "outputs": [],
   "source": [
    "capsule_reverse.fit(input_image=input_images)"
   ]
  },
  {
   "cell_type": "code",
   "execution_count": null,
   "metadata": {
    "collapsed": true
   },
   "outputs": [],
   "source": [
    "output_images = theano.function([], get_output_from_latent(model_reverse, H))()\n",
    "fig = plt.figure(figsize=(10, 10))\n",
    "n = 4\n",
    "gridw, gridh = n*2, n*2\n",
    "k = 1\n",
    "ind = 0\n",
    "for i in range(n):\n",
    "    for j in range(n):\n",
    "        if ind >= input_images.shape[0]:\n",
    "            break\n",
    "        plt.subplot(gridw, gridh, k)\n",
    "        plt.axis('off')\n",
    "        plt.imshow(input_images[ind].reshape((w, h)), cmap=\"gray\")\n",
    "        k += 1\n",
    "        plt.subplot(gridw, gridh, k)\n",
    "        plt.axis('off')\n",
    "        plt.imshow(output_images[ind].reshape((w, h)), cmap=\"gray\")\n",
    "        k += 1\n",
    "        ind += 1\n",
    "plt.show()"
   ]
  }
 ],
 "metadata": {
  "kernelspec": {
   "display_name": "Python 2",
   "language": "python",
   "name": "python2"
  },
  "language_info": {
   "codemirror_mode": {
    "name": "ipython",
    "version": 2
   },
   "file_extension": ".py",
   "mimetype": "text/x-python",
   "name": "python",
   "nbconvert_exporter": "python",
   "pygments_lexer": "ipython2",
   "version": "2.7.10"
  }
 },
 "nbformat": 4,
 "nbformat_minor": 0
}
