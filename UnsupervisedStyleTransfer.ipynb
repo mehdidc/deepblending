{
 "cells": [
  {
   "cell_type": "code",
   "execution_count": 1,
   "metadata": {
    "collapsed": false
   },
   "outputs": [
    {
     "name": "stdout",
     "output_type": "stream",
     "text": [
      "Couldn't import dot_parser, loading of dot files will not be possible.\n"
     ]
    },
    {
     "name": "stderr",
     "output_type": "stream",
     "text": [
      "Using gpu device 1: Tesla K20m (CNMeM is disabled)\n"
     ]
    }
   ],
   "source": [
    "import os\n",
    "os.environ[\"THEANO_FLAGS\"] = \"device=gpu1\"\n",
    "os.environ[\"CPATH\"] = \"\"\n",
    "import numpy as np\n",
    "\n",
    "from collections import OrderedDict\n",
    "from lasagnekit.misc.draw_net import draw_to_notebook, draw_to_file\n",
    "from lasagnekit.misc.plot_weights import grid_plot\n",
    "from lasagnekit.misc.dream import build_dreamer\n",
    "from lasagnekit.easy import LightweightModel, BatchOptimizer\n",
    "from lasagnekit.generative.capsule import Capsule\n",
    "from lasagnekit.easy import BatchIterator, get_batch_slice\n",
    "\n",
    "\n",
    "from lasagnekit.datasets.mnist import MNIST\n",
    "from lasagnekit.datasets.fonts import Fonts\n",
    "\n",
    "from lasagne import layers, updates\n",
    "from IPython.display import SVG\n",
    "\n",
    "import theano\n",
    "import theano.tensor as T\n",
    "from theano.tensor.shared_randomstreams import RandomStreams\n",
    "\n",
    "\n",
    "srng = RandomStreams(seed=234)\n",
    "\n",
    "\n",
    "from skimage.io import imread\n",
    "from skimage.transform import resize\n",
    "\n",
    "from lasagnekit.easy import get_stat\n",
    "\n",
    "import matplotlib.pyplot as plt\n",
    "\n",
    "from lasagne.layers import InputLayer, DenseLayer, NonlinearityLayer\n",
    "from lasagne.layers import Conv2DLayer as ConvLayer\n",
    "from lasagne.layers import Pool2DLayer as PoolLayer\n",
    "from lasagne.nonlinearities import softmax, rectify\n",
    "\n",
    "from sklearn.preprocessing import label_binarize\n",
    "from sklearn.utils import shuffle\n",
    "from sklearn.cross_validation import train_test_split\n",
    "\n",
    "%matplotlib inline"
   ]
  },
  {
   "cell_type": "code",
   "execution_count": 2,
   "metadata": {
    "collapsed": true
   },
   "outputs": [],
   "source": [
    "seed = 1234\n",
    "np.random.seed(seed)\n",
    "rng = RandomStreams(seed)"
   ]
  },
  {
   "cell_type": "code",
   "execution_count": 3,
   "metadata": {
    "collapsed": true
   },
   "outputs": [],
   "source": [
    "# choose between mnist and fonts\n",
    "dataset = \"mnist\""
   ]
  },
  {
   "cell_type": "code",
   "execution_count": 4,
   "metadata": {
    "collapsed": false
   },
   "outputs": [],
   "source": [
    "if dataset == \"mnist\":\n",
    "    data = MNIST()\n",
    "    data.load()\n",
    "    X = data.X\n",
    "    X = X.astype(np.float32)#theano expects float32 for GPUs\n",
    "    y = data.y.astype(np.int32)\n",
    "    real_w, real_h = 28, 28 # the real size of dataset\n",
    "    output_dim = 10 # 10 classes\n",
    "elif dataset == \"fonts\":\n",
    "    data = Fonts(kind=\"all_64\", \n",
    "                 labels_kind=\"letters\")\n",
    "    data.load()\n",
    "    X = data.X\n",
    "    X = X.astype(np.float32)\n",
    "    y = data.y.astype(np.int32)\n",
    "    output_dim = 26\n",
    "    real_w, real_h = 64, 64\n",
    "    X=1-X\n",
    "X_orig = X\n",
    "#y = label_binarize(y, np.arange(output_dim))\n",
    "y = y.astype(np.float32)"
   ]
  },
  {
   "cell_type": "code",
   "execution_count": 5,
   "metadata": {
    "collapsed": false
   },
   "outputs": [
    {
     "name": "stdout",
     "output_type": "stream",
     "text": [
      "((70000, 784), (70000,))\n"
     ]
    }
   ],
   "source": [
    "print(X.shape, y.shape)"
   ]
  },
  {
   "cell_type": "code",
   "execution_count": 6,
   "metadata": {
    "collapsed": true
   },
   "outputs": [],
   "source": [
    "w, h = 28, 28 # Desired resolution, not necessarely the same than real_w and real_h, \n",
    "              # if necessary the images will be resize to fit w and h)"
   ]
  },
  {
   "cell_type": "code",
   "execution_count": 7,
   "metadata": {
    "collapsed": true
   },
   "outputs": [],
   "source": [
    "\n",
    "binarize = False # binarize the images if \"True\"\n",
    "rescale = True\n",
    "\n",
    "if rescale is True:\n",
    "    if (w, h) != (real_w, real_h):\n",
    "        name = \"{0}-{1}x{2}.npy\".format(dataset, w, h)\n",
    "        if os.path.exists(name):\n",
    "            X =  np.load(name)\n",
    "        else:\n",
    "            from skimage.filter import threshold_otsu\n",
    "            from skimage.transform import resize\n",
    "            X_b = np.zeros((X.shape[0], w, h))\n",
    "            for i in range(X_b.shape[0]):\n",
    "                X_b[i] = resize(X_orig[i].reshape((real_w, real_h)), (w, h))\n",
    "            X = X_b\n",
    "            #X = X <= threshold_otsu(X)\n",
    "            X = X.astype(np.float32)\n",
    "            X = X.reshape((X.shape[0], w*h))\n",
    "            #=1-X\n",
    "            np.save(name, X)\n",
    "\n",
    "if binarize is True:\n",
    "    X = X <= threshold_otsu(X)\n",
    "    X = 1 - X"
   ]
  },
  {
   "cell_type": "code",
   "execution_count": 8,
   "metadata": {
    "collapsed": false
   },
   "outputs": [
    {
     "name": "stdout",
     "output_type": "stream",
     "text": [
      "(70000, 784)\n",
      "(70000, 784)\n"
     ]
    },
    {
     "data": {
      "image/png": "[encoded data removed]",
      "text/plain": [
       "<matplotlib.figure.Figure at 0x7fdb482b8d50>"
      ]
     },
     "metadata": {},
     "output_type": "display_data"
    }
   ],
   "source": [
    "print(X.shape)\n",
    "plt.imshow(X[20].reshape((w, h)), cmap=\"gray\")\n",
    "print(X.shape)"
   ]
  },
  {
   "cell_type": "code",
   "execution_count": 9,
   "metadata": {
    "collapsed": false
   },
   "outputs": [],
   "source": [
    "X, y = shuffle(X, y)\n",
    "train, test = train_test_split(range(X.shape[0]), test_size=0.25)"
   ]
  },
  {
   "cell_type": "code",
   "execution_count": 10,
   "metadata": {
    "collapsed": true
   },
   "outputs": [],
   "source": [
    "class MyBatchOptimizer(BatchOptimizer):\n",
    "    # called for each epoch during training\n",
    "    def iter_update(self, epoch, nb_batches, iter_update_batch):\n",
    "        status = super(MyBatchOptimizer, self).iter_update(epoch, nb_batches, iter_update_batch)\n",
    "        return status\n",
    "    \n",
    "class Model:\n",
    "    def get_all_params(self, **t):\n",
    "        return list(set(self.image_to_style.get_all_params(**t) + \n",
    "                        self.styles_to_output.get_all_params(**t)))\n"
   ]
  },
  {
   "cell_type": "markdown",
   "metadata": {},
   "source": [
    "# Model"
   ]
  },
  {
   "cell_type": "code",
   "execution_count": 11,
   "metadata": {
    "collapsed": true
   },
   "outputs": [],
   "source": [
    "model_type = \"convnet\""
   ]
  },
  {
   "cell_type": "code",
   "execution_count": 12,
   "metadata": {
    "collapsed": true
   },
   "outputs": [],
   "source": [
    "if model_type == \"fully_connected\":\n",
    "    ## fully connected\n",
    "    num_hidden_units = 500\n",
    "    input_dim = w * h\n",
    "    output_dim = w * h\n",
    "\n",
    "    # Style encoder network\n",
    "    style_hidden_size = 10\n",
    "    l_input_style_network = layers.InputLayer((None, w * h), name=\"input_style_network\")\n",
    "    l_encoder1 = layers.DenseLayer(l_input_style_network, num_units=num_hidden_units, nonlinearity=rectify)\n",
    "    l_encoder2 = layers.DenseLayer(l_encoder1, num_units=num_hidden_units, nonlinearity=rectify)\n",
    "    l_encoder3 = layers.DenseLayer(l_encoder2, num_units=num_hidden_units, nonlinearity=rectify)\n",
    "    l_style = layers.DenseLayer(l_encoder3, num_units=style_hidden_size, nonlinearity=rectify)\n",
    "    # Transformation Network\n",
    "    \n",
    "    \n",
    "    l_source_transformation_network = layers.InputLayer((None,style_hidden_size), name=\"source_transformation_network\")\n",
    "    l_dest_transformation_network = layers.InputLayer((None,style_hidden_size), name=\"dest_transformation_network\")\n",
    "    l_merge = layers.ConcatLayer([l_source_transformation_network, l_dest_transformation_network], axis=1)\n",
    "    l_encoder1 = layers.DenseLayer(l_merge, num_units=num_hidden_units, nonlinearity=rectify)\n",
    "    l_encoder2 = layers.DenseLayer(l_encoder1, num_units=num_hidden_units, nonlinearity=rectify)\n",
    "    l_encoder3 = layers.DenseLayer(l_encoder2, num_units=num_hidden_units, nonlinearity=rectify)    \n",
    "    l_encoder4 = layers.DenseLayer(l_encoder3, num_units=num_hidden_units, nonlinearity=rectify)\n",
    "    l_output = layers.DenseLayer(l_encoder4, num_units=output_dim, name=\"blending\")\n",
    "    \n",
    "    # \"sub\"-models\n",
    "    model = Model()\n",
    "    model.image_to_style = LightweightModel([l_input_style_network], [l_style])\n",
    "    model.styles_to_output = LightweightModel([l_source_transformation_network, l_dest_transformation_network], \n",
    "                                             [l_output])"
   ]
  },
  {
   "cell_type": "code",
   "execution_count": 120,
   "metadata": {
    "collapsed": false
   },
   "outputs": [],
   "source": [
    "if model_type == \"convnet\":\n",
    "    ## fully connected\n",
    "    num_hidden_units = 500\n",
    "    input_dim = w * h\n",
    "    output_dim = w * h\n",
    "    \n",
    "    # Style encoder network\n",
    "    style_hidden_size = 10\n",
    "    l_input_style_network = layers.InputLayer((None, w * h), name=\"input_style_network\")\n",
    "    l_in = layers.ReshapeLayer(l_input_style_network, ([0], 1, w, h))\n",
    "    \n",
    "    l_conv = layers.Conv2DLayer(l_in, num_filters=16, filter_size=(5, 5))\n",
    "    l_pool = layers.Pool2DLayer(l_conv, pool_size=(2, 2))\n",
    "    \n",
    "    #l_conv = layers.Conv2DLayer(l_pool, num_filters=32, filter_size=(5, 5))\n",
    "    #l_pool = layers.Pool2DLayer(l_conv, pool_size=(2, 2))\n",
    "    \n",
    "    l_hid = layers.DenseLayer(l_pool, num_units=500)\n",
    "    l_style = layers.DenseLayer(l_hid, num_units=style_hidden_size, nonlinearity=lambda x:x)\n",
    "    # Transformation Network\n",
    "    \n",
    "    \n",
    "    l_source_transformation_network = layers.InputLayer((None,style_hidden_size), name=\"source_transformation_network\")\n",
    "    l_dest_transformation_network = layers.InputLayer((None,style_hidden_size), name=\"dest_transformation_network\")\n",
    "    \n",
    "    l_merge = layers.ConcatLayer([l_source_transformation_network, l_dest_transformation_network], axis=1)\n",
    "    l_encoder1 = layers.DenseLayer(l_merge, num_units=num_hidden_units, nonlinearity=rectify)\n",
    "    l_encoder2 = layers.DenseLayer(l_encoder1, num_units=num_hidden_units, nonlinearity=rectify)\n",
    "    \n",
    "    k = 5\n",
    "    #num = (((w - k + 1) / 2) - k + 1) / 2\n",
    "    num = (w - k + 1) / 2\n",
    "    \n",
    "    l_encoder3 = layers.DenseLayer(l_encoder2, num_units=num*num*32, nonlinearity=rectify)\n",
    "    \n",
    "    l_pool_dec = layers.ReshapeLayer(l_encoder3, ([0], 32, num, num))\n",
    "    l_pool_dec = layers.Upscale2DLayer(l_pool_dec, 2)\n",
    "    \n",
    "    l_conv_dec = layers.Conv2DLayer(l_pool_dec, num_filters=1, \n",
    "                                    filter_size=(5, 5), \n",
    "                                    pad='full')\n",
    "    #l_pool_dec = layers.Upscale2DLayer(l_conv_dec, 2)\n",
    "    #l_conv_dec = layers.Conv2DLayer(l_pool_dec, num_filters=1, filter_size=(5, 5),\n",
    "    #                                pad='full')\n",
    "    l_output = layers.ReshapeLayer(l_conv_dec, ([0], w*h))    \n",
    "    # \"sub\"-models\n",
    "    model = Model()\n",
    "    model.image_to_style = LightweightModel([l_input_style_network], [l_style])\n",
    "    model.styles_to_output = LightweightModel([l_source_transformation_network, l_dest_transformation_network], \n",
    "                                             [l_output])"
   ]
  },
  {
   "cell_type": "code",
   "execution_count": 121,
   "metadata": {
    "collapsed": false
   },
   "outputs": [
    {
     "data": {
      "image/svg+xml": [
       "<svg height=\"629pt\" viewBox=\"0.00 0.00 824.32 629.00\" width=\"824pt\" xmlns=\"http://www.w3.org/2000/svg\" xmlns:xlink=\"http://www.w3.org/1999/xlink\">\n",
       "<g class=\"graph\" id=\"graph0\" transform=\"scale(1 1) rotate(0) translate(4 625)\">\n",
       "<title>Network</title>\n",
       "<polygon fill=\"white\" points=\"-4,4 -4,-625 820.321,-625 820.321,4 -4,4\" stroke=\"none\"/>\n",
       "<!-- lasagne.layers.dense.DenseLayer object at 0x7fdabc58ecd0 -->\n",
       "<g class=\"node\" id=\"node1\"><title>lasagne.layers.dense.DenseLayer object at 0x7fdabc58ecd0</title>\n",
       "<polygon fill=\"#6ccf8d\" points=\"294.698,-365.5 294.698,-401.5 527.615,-401.5 527.615,-365.5 294.698,-365.5\" stroke=\"black\"/>\n",
       "<text font-family=\"Times,serif\" font-size=\"14.00\" text-anchor=\"middle\" x=\"411.156\" y=\"-379.3\">DenseLayerOutput shape: (None, 500)</text>\n",
       "</g>\n",
       "<!-- lasagne.layers.dense.DenseLayer object at 0x7fdabc6d3d50 -->\n",
       "<g class=\"node\" id=\"node3\"><title>lasagne.layers.dense.DenseLayer object at 0x7fdabc6d3d50</title>\n",
       "<polygon fill=\"#6ccf8d\" points=\"291.198,-292.5 291.198,-328.5 531.115,-328.5 531.115,-292.5 291.198,-292.5\" stroke=\"black\"/>\n",
       "<text font-family=\"Times,serif\" font-size=\"14.00\" text-anchor=\"middle\" x=\"411.156\" y=\"-306.3\">DenseLayerOutput shape: (None, 4608)</text>\n",
       "</g>\n",
       "<!-- lasagne.layers.dense.DenseLayer object at 0x7fdabc58ecd0&#45;&gt;lasagne.layers.dense.DenseLayer object at 0x7fdabc6d3d50 -->\n",
       "<g class=\"edge\" id=\"edge5\"><title>lasagne.layers.dense.DenseLayer object at 0x7fdabc58ecd0-&gt;lasagne.layers.dense.DenseLayer object at 0x7fdabc6d3d50</title>\n",
       "<path d=\"M411.156,-365.313C411.156,-357.289 411.156,-347.547 411.156,-338.569\" fill=\"none\" stroke=\"black\"/>\n",
       "<polygon fill=\"black\" points=\"414.657,-338.529 411.156,-328.529 407.657,-338.529 414.657,-338.529\" stroke=\"black\"/>\n",
       "</g>\n",
       "<!-- lasagne.layers.dense.DenseLayer object at 0x7fdabc58ee50 -->\n",
       "<g class=\"node\" id=\"node2\"><title>lasagne.layers.dense.DenseLayer object at 0x7fdabc58ee50</title>\n",
       "<polygon fill=\"#6ccf8d\" points=\"294.698,-438.5 294.698,-474.5 527.615,-474.5 527.615,-438.5 294.698,-438.5\" stroke=\"black\"/>\n",
       "<text font-family=\"Times,serif\" font-size=\"14.00\" text-anchor=\"middle\" x=\"411.156\" y=\"-452.3\">DenseLayerOutput shape: (None, 500)</text>\n",
       "</g>\n",
       "<!-- lasagne.layers.dense.DenseLayer object at 0x7fdabc58ee50&#45;&gt;lasagne.layers.dense.DenseLayer object at 0x7fdabc58ecd0 -->\n",
       "<g class=\"edge\" id=\"edge4\"><title>lasagne.layers.dense.DenseLayer object at 0x7fdabc58ee50-&gt;lasagne.layers.dense.DenseLayer object at 0x7fdabc58ecd0</title>\n",
       "<path d=\"M411.156,-438.313C411.156,-430.289 411.156,-420.547 411.156,-411.569\" fill=\"none\" stroke=\"black\"/>\n",
       "<polygon fill=\"black\" points=\"414.657,-411.529 411.156,-401.529 407.657,-411.529 414.657,-411.529\" stroke=\"black\"/>\n",
       "</g>\n",
       "<!-- lasagne.layers.shape.ReshapeLayer object at 0x7fdabc6d3d90 -->\n",
       "<g class=\"node\" id=\"node8\"><title>lasagne.layers.shape.ReshapeLayer object at 0x7fdabc6d3d90</title>\n",
       "<polygon fill=\"#ff8351\" points=\"270.975,-219.5 270.975,-255.5 551.337,-255.5 551.337,-219.5 270.975,-219.5\" stroke=\"black\"/>\n",
       "<text font-family=\"Times,serif\" font-size=\"14.00\" text-anchor=\"middle\" x=\"411.156\" y=\"-233.3\">ReshapeLayerOutput shape: (None, 32, 12, 12)</text>\n",
       "</g>\n",
       "<!-- lasagne.layers.dense.DenseLayer object at 0x7fdabc6d3d50&#45;&gt;lasagne.layers.shape.ReshapeLayer object at 0x7fdabc6d3d90 -->\n",
       "<g class=\"edge\" id=\"edge6\"><title>lasagne.layers.dense.DenseLayer object at 0x7fdabc6d3d50-&gt;lasagne.layers.shape.ReshapeLayer object at 0x7fdabc6d3d90</title>\n",
       "<path d=\"M411.156,-292.313C411.156,-284.289 411.156,-274.547 411.156,-265.569\" fill=\"none\" stroke=\"black\"/>\n",
       "<polygon fill=\"black\" points=\"414.657,-265.529 411.156,-255.529 407.657,-265.529 414.657,-265.529\" stroke=\"black\"/>\n",
       "</g>\n",
       "<!-- lasagne.layers.merge.ConcatLayer object at 0x7fdabc58ea50 -->\n",
       "<g class=\"node\" id=\"node4\"><title>lasagne.layers.merge.ConcatLayer object at 0x7fdabc58ea50</title>\n",
       "<polygon fill=\"#53e644\" points=\"295.86,-511.5 295.86,-547.5 526.453,-547.5 526.453,-511.5 295.86,-511.5\" stroke=\"black\"/>\n",
       "<text font-family=\"Times,serif\" font-size=\"14.00\" text-anchor=\"middle\" x=\"411.156\" y=\"-525.3\">ConcatLayerOutput shape: (None, 20)</text>\n",
       "</g>\n",
       "<!-- lasagne.layers.merge.ConcatLayer object at 0x7fdabc58ea50&#45;&gt;lasagne.layers.dense.DenseLayer object at 0x7fdabc58ee50 -->\n",
       "<g class=\"edge\" id=\"edge3\"><title>lasagne.layers.merge.ConcatLayer object at 0x7fdabc58ea50-&gt;lasagne.layers.dense.DenseLayer object at 0x7fdabc58ee50</title>\n",
       "<path d=\"M411.156,-511.313C411.156,-503.289 411.156,-493.547 411.156,-484.569\" fill=\"none\" stroke=\"black\"/>\n",
       "<polygon fill=\"black\" points=\"414.657,-484.529 411.156,-474.529 407.657,-484.529 414.657,-484.529\" stroke=\"black\"/>\n",
       "</g>\n",
       "<!-- lasagne.layers.conv.Conv2DLayer object at 0x7fdabc68fe10 -->\n",
       "<g class=\"node\" id=\"node5\"><title>lasagne.layers.conv.Conv2DLayer object at 0x7fdabc68fe10</title>\n",
       "<polygon fill=\"#7c9abb\" points=\"274.466,-73.5 274.466,-109.5 547.847,-109.5 547.847,-73.5 274.466,-73.5\" stroke=\"black\"/>\n",
       "<text font-family=\"Times,serif\" font-size=\"14.00\" text-anchor=\"middle\" x=\"411.156\" y=\"-87.3\">Conv2DLayerOutput shape: (None, 1, 28, 28)</text>\n",
       "</g>\n",
       "<!-- lasagne.layers.shape.ReshapeLayer object at 0x7fdabc68ffd0 -->\n",
       "<g class=\"node\" id=\"node9\"><title>lasagne.layers.shape.ReshapeLayer object at 0x7fdabc68ffd0</title>\n",
       "<polygon fill=\"#ff8351\" points=\"288.475,-0.5 288.475,-36.5 533.837,-36.5 533.837,-0.5 288.475,-0.5\" stroke=\"black\"/>\n",
       "<text font-family=\"Times,serif\" font-size=\"14.00\" text-anchor=\"middle\" x=\"411.156\" y=\"-14.3\">ReshapeLayerOutput shape: (None, 784)</text>\n",
       "</g>\n",
       "<!-- lasagne.layers.conv.Conv2DLayer object at 0x7fdabc68fe10&#45;&gt;lasagne.layers.shape.ReshapeLayer object at 0x7fdabc68ffd0 -->\n",
       "<g class=\"edge\" id=\"edge9\"><title>lasagne.layers.conv.Conv2DLayer object at 0x7fdabc68fe10-&gt;lasagne.layers.shape.ReshapeLayer object at 0x7fdabc68ffd0</title>\n",
       "<path d=\"M411.156,-73.3129C411.156,-65.2895 411.156,-55.5475 411.156,-46.5691\" fill=\"none\" stroke=\"black\"/>\n",
       "<polygon fill=\"black\" points=\"414.657,-46.5288 411.156,-36.5288 407.657,-46.5289 414.657,-46.5288\" stroke=\"black\"/>\n",
       "</g>\n",
       "<!-- lasagne.layers.pool.Upscale2DLayer object at 0x7fdabc68f850 -->\n",
       "<g class=\"node\" id=\"node6\"><title>lasagne.layers.pool.Upscale2DLayer object at 0x7fdabc68f850</title>\n",
       "<polygon fill=\"#67500e\" points=\"263.592,-146.5 263.592,-182.5 558.721,-182.5 558.721,-146.5 263.592,-146.5\" stroke=\"black\"/>\n",
       "<text font-family=\"Times,serif\" font-size=\"14.00\" text-anchor=\"middle\" x=\"411.156\" y=\"-160.3\">Upscale2DLayerOutput shape: (None, 32, 24, 24)</text>\n",
       "</g>\n",
       "<!-- lasagne.layers.pool.Upscale2DLayer object at 0x7fdabc68f850&#45;&gt;lasagne.layers.conv.Conv2DLayer object at 0x7fdabc68fe10 -->\n",
       "<g class=\"edge\" id=\"edge8\"><title>lasagne.layers.pool.Upscale2DLayer object at 0x7fdabc68f850-&gt;lasagne.layers.conv.Conv2DLayer object at 0x7fdabc68fe10</title>\n",
       "<path d=\"M411.156,-146.313C411.156,-138.289 411.156,-128.547 411.156,-119.569\" fill=\"none\" stroke=\"black\"/>\n",
       "<polygon fill=\"black\" points=\"414.657,-119.529 411.156,-109.529 407.657,-119.529 414.657,-119.529\" stroke=\"black\"/>\n",
       "</g>\n",
       "<!-- lasagne.layers.input.InputLayer object at 0x7fdad2a22590 -->\n",
       "<g class=\"node\" id=\"node7\"><title>lasagne.layers.input.InputLayer object at 0x7fdad2a22590</title>\n",
       "<polygon fill=\"#a2cece\" points=\"0,-584.5 0,-620.5 406.313,-620.5 406.313,-584.5 0,-584.5\" stroke=\"black\"/>\n",
       "<text font-family=\"Times,serif\" font-size=\"14.00\" text-anchor=\"middle\" x=\"203.156\" y=\"-598.3\">source_transformation_network, InputLayerOutput shape: (None, 10)</text>\n",
       "</g>\n",
       "<!-- lasagne.layers.input.InputLayer object at 0x7fdad2a22590&#45;&gt;lasagne.layers.merge.ConcatLayer object at 0x7fdabc58ea50 -->\n",
       "<g class=\"edge\" id=\"edge1\"><title>lasagne.layers.input.InputLayer object at 0x7fdad2a22590-&gt;lasagne.layers.merge.ConcatLayer object at 0x7fdabc58ea50</title>\n",
       "<path d=\"M252.978,-584.494C282.476,-574.425 320.042,-561.602 351.162,-550.979\" fill=\"none\" stroke=\"black\"/>\n",
       "<polygon fill=\"black\" points=\"352.688,-554.156 361.021,-547.614 350.426,-547.532 352.688,-554.156\" stroke=\"black\"/>\n",
       "</g>\n",
       "<!-- lasagne.layers.shape.ReshapeLayer object at 0x7fdabc6d3d90&#45;&gt;lasagne.layers.pool.Upscale2DLayer object at 0x7fdabc68f850 -->\n",
       "<g class=\"edge\" id=\"edge7\"><title>lasagne.layers.shape.ReshapeLayer object at 0x7fdabc6d3d90-&gt;lasagne.layers.pool.Upscale2DLayer object at 0x7fdabc68f850</title>\n",
       "<path d=\"M411.156,-219.313C411.156,-211.289 411.156,-201.547 411.156,-192.569\" fill=\"none\" stroke=\"black\"/>\n",
       "<polygon fill=\"black\" points=\"414.657,-192.529 411.156,-182.529 407.657,-192.529 414.657,-192.529\" stroke=\"black\"/>\n",
       "</g>\n",
       "<!-- lasagne.layers.input.InputLayer object at 0x7fdabc58ea90 -->\n",
       "<g class=\"node\" id=\"node10\"><title>lasagne.layers.input.InputLayer object at 0x7fdabc58ea90</title>\n",
       "<polygon fill=\"#a2cece\" points=\"423.992,-584.5 423.992,-620.5 816.321,-620.5 816.321,-584.5 423.992,-584.5\" stroke=\"black\"/>\n",
       "<text font-family=\"Times,serif\" font-size=\"14.00\" text-anchor=\"middle\" x=\"620.156\" y=\"-598.3\">dest_transformation_network, InputLayerOutput shape: (None, 10)</text>\n",
       "</g>\n",
       "<!-- lasagne.layers.input.InputLayer object at 0x7fdabc58ea90&#45;&gt;lasagne.layers.merge.ConcatLayer object at 0x7fdabc58ea50 -->\n",
       "<g class=\"edge\" id=\"edge2\"><title>lasagne.layers.input.InputLayer object at 0x7fdabc58ea90-&gt;lasagne.layers.merge.ConcatLayer object at 0x7fdabc58ea50</title>\n",
       "<path d=\"M570.096,-584.494C540.328,-574.381 502.382,-561.491 471.034,-550.841\" fill=\"none\" stroke=\"black\"/>\n",
       "<polygon fill=\"black\" points=\"472.127,-547.516 461.533,-547.614 469.876,-554.144 472.127,-547.516\" stroke=\"black\"/>\n",
       "</g>\n",
       "</g>\n",
       "</svg>"
      ],
      "text/plain": [
       "<IPython.core.display.SVG object>"
      ]
     },
     "execution_count": 121,
     "metadata": {},
     "output_type": "execute_result"
    }
   ],
   "source": [
    "from IPython.display import SVG\n",
    "draw_to_file(layers.get_all_layers(l_output), \"unsupervised_style_transfer.svg\")\n",
    "SVG(\"unsupervised_style_transfer.svg\")"
   ]
  },
  {
   "cell_type": "code",
   "execution_count": 122,
   "metadata": {
    "collapsed": false
   },
   "outputs": [
    {
     "name": "stdout",
     "output_type": "stream",
     "text": [
      "['input_style_network', 'source_transformation_network', 'dest_transformation_network']\n"
     ]
    }
   ],
   "source": [
    "layers_by_name = OrderedDict()\n",
    "\n",
    "\n",
    "all_layers = (\n",
    "    layers.get_all_layers(model.image_to_style.output_layers[0]) +\n",
    "    layers.get_all_layers(model.styles_to_output.output_layers[0]) \n",
    ")\n",
    "\n",
    "for l in all_layers:\n",
    "    if l.name is not None:\n",
    "        layers_by_name[l.name] = l\n",
    "print(layers_by_name.keys())"
   ]
  },
  {
   "cell_type": "markdown",
   "metadata": {},
   "source": [
    "## Define the capsule object\n",
    "\n",
    "The Capsule object combines all the components:\n",
    "\n",
    "    - The model\n",
    "    - The training algorithm\n",
    "    - The loss function"
   ]
  },
  {
   "cell_type": "code",
   "execution_count": 123,
   "metadata": {
    "collapsed": true
   },
   "outputs": [],
   "source": [
    "input_variables = OrderedDict()\n",
    "input_variables[\"input_image\"] = dict(tensor_type=T.matrix)\n",
    "input_variables[\"input_style_image\"] = dict(tensor_type=T.matrix)"
   ]
  },
  {
   "cell_type": "code",
   "execution_count": 124,
   "metadata": {
    "collapsed": false
   },
   "outputs": [],
   "source": [
    "def get_output(model, input_image, input_style_image):\n",
    "    source_style, = model.image_to_style.get_output(input_image)\n",
    "    dest_style, = model.image_to_style.get_output(input_style_image)\n",
    "    output, = model.styles_to_output.get_output(source_style, dest_style)\n",
    "    return output\n",
    "\n",
    "def get_style(model, input_image):\n",
    "    output, = model.image_to_style.get_output(input_image)\n",
    "    return output\n",
    "\n",
    "functions = dict(\n",
    "    get_ouput_blending=dict(\n",
    "        get_output=get_output,\n",
    "        params=[\"input_image\", \"input_style_image\"]\n",
    "    ),   \n",
    ")"
   ]
  },
  {
   "cell_type": "code",
   "execution_count": 125,
   "metadata": {
    "collapsed": true
   },
   "outputs": [],
   "source": [
    "class BlendingBatchIterator(BatchIterator):\n",
    "    \n",
    "     def transform(self, batch_index, V):\n",
    "        assert self.batch_size is not None \n",
    "        assert self.nb_batches is not None \n",
    "        tensors = OrderedDict()\n",
    "        nb_examples = V[\"input_image\"].shape[0]\n",
    "        if isinstance(batch_index, T.TensorVariable):                        \n",
    "            input_image_indices = rng.random_integers(size=(self.batch_size,), low=0, high=nb_examples)\n",
    "            \n",
    "            nb_examples = V[\"input_style_image\"].shape[0]\n",
    "            input_style_image_indices = rng.random_integers(size=(self.batch_size,), low=0, high=nb_examples)\n",
    "        else:                        \n",
    "            input_image_indices = np.random.randint(low=0, high=nb_examples, size=(self.batch_size,))\n",
    "            input_style_image_indices = np.random.randint(low=0, high=nb_examples, size=(self.batch_size,))\n",
    "        tensors[\"input_image\"] = V[\"input_image\"][input_image_indices]\n",
    "        tensors[\"input_style_image\"] = V[\"input_style_image\"][input_style_image_indices]\n",
    "        return tensors\n",
    "batch_optimizer = MyBatchOptimizer(\n",
    "    verbose=1,\n",
    "    max_nb_epochs=20,\n",
    "    batch_size=100,\n",
    "    optimization_procedure=(updates.rmsprop, \n",
    "                            {\"learning_rate\": 0.0001})\n",
    ")"
   ]
  },
  {
   "cell_type": "code",
   "execution_count": 134,
   "metadata": {
    "collapsed": true
   },
   "outputs": [],
   "source": [
    "def loss_function(model, tensors):\n",
    "    input_image = tensors[\"input_image\"]\n",
    "    input_style_image = tensors[\"input_style_image\"]\n",
    "    \n",
    "    style = get_style(model, input_style_image)\n",
    "    \n",
    "    \n",
    "    output = get_output(model, input_image, input_style_image)\n",
    "    \n",
    "    style_output = get_style(model, output)\n",
    "    \n",
    "    \n",
    "    \n",
    "    recons = ((input_image - output) ** 2).sum(axis=1).mean()\n",
    "    recons2 = ((style - style_output)**2).sum(axis=1).mean()\n",
    "    return recons + recons2"
   ]
  },
  {
   "cell_type": "code",
   "execution_count": 132,
   "metadata": {
    "collapsed": false
   },
   "outputs": [],
   "source": [
    "capsule = Capsule(\n",
    "    input_variables, \n",
    "    model,\n",
    "    loss_function,\n",
    "    functions=functions,\n",
    "    batch_optimizer=batch_optimizer,\n",
    "    batch_iterator=BlendingBatchIterator(),\n",
    ")"
   ]
  },
  {
   "cell_type": "code",
   "execution_count": 133,
   "metadata": {
    "collapsed": false
   },
   "outputs": [
    {
     "name": "stderr",
     "output_type": "stream",
     "text": [
      "INFO (theano.gof.compilelock): Refreshing lock /grid_mnt/vol__vol_U__u/gridcl/mehdicherti/.theano/compiledir_Linux-2.6-el6.x86_64-x86_64-with-redhat-6.7-Carbon-x86_64-2.7.10-64/lock_dir/lock\n",
      "INFO:theano.gof.compilelock:Refreshing lock /grid_mnt/vol__vol_U__u/gridcl/mehdicherti/.theano/compiledir_Linux-2.6-el6.x86_64-x86_64-with-redhat-6.7-Carbon-x86_64-2.7.10-64/lock_dir/lock\n"
     ]
    },
    {
     "ename": "KeyboardInterrupt",
     "evalue": "",
     "output_type": "error",
     "traceback": [
      "\u001b[1;31m---------------------------------------------------------------------------\u001b[0m",
      "\u001b[1;31mKeyboardInterrupt\u001b[0m                         Traceback (most recent call last)",
      "\u001b[1;32m<ipython-input-133-6c6be4daae88>\u001b[0m in \u001b[0;36m<module>\u001b[1;34m()\u001b[0m\n\u001b[1;32m----> 1\u001b[1;33m \u001b[0mcapsule\u001b[0m\u001b[1;33m.\u001b[0m\u001b[0mfit\u001b[0m\u001b[1;33m(\u001b[0m\u001b[0minput_image\u001b[0m\u001b[1;33m=\u001b[0m\u001b[0mX\u001b[0m\u001b[1;33m[\u001b[0m\u001b[0my\u001b[0m\u001b[1;33m==\u001b[0m\u001b[1;36m0\u001b[0m\u001b[1;33m]\u001b[0m\u001b[1;33m,\u001b[0m \u001b[0minput_style_image\u001b[0m\u001b[1;33m=\u001b[0m\u001b[0mX\u001b[0m\u001b[1;33m[\u001b[0m\u001b[0my\u001b[0m\u001b[1;33m==\u001b[0m\u001b[1;36m0\u001b[0m\u001b[1;33m]\u001b[0m\u001b[1;33m)\u001b[0m\u001b[1;33m\u001b[0m\u001b[0m\n\u001b[0m",
      "\u001b[1;32m/grid_mnt/vol__vol_U__u/gridcl/mehdicherti/work/code/lasagnekit/lasagnekit/generative/capsule.pyc\u001b[0m in \u001b[0;36mfit\u001b[1;34m(self, **V)\u001b[0m\n\u001b[0;32m     72\u001b[0m         \u001b[1;32mif\u001b[0m \u001b[0mself\u001b[0m\u001b[1;33m.\u001b[0m\u001b[0miter_update_batch\u001b[0m \u001b[1;32mis\u001b[0m \u001b[0mNone\u001b[0m\u001b[1;33m:\u001b[0m\u001b[1;33m\u001b[0m\u001b[0m\n\u001b[0;32m     73\u001b[0m             \u001b[0mself\u001b[0m\u001b[1;33m.\u001b[0m\u001b[0m_build\u001b[0m\u001b[1;33m(\u001b[0m\u001b[0mV\u001b[0m\u001b[1;33m)\u001b[0m\u001b[1;33m\u001b[0m\u001b[0m\n\u001b[1;32m---> 74\u001b[1;33m         \u001b[0mself\u001b[0m\u001b[1;33m.\u001b[0m\u001b[0mbatch_optimizer\u001b[0m\u001b[1;33m.\u001b[0m\u001b[0moptimize\u001b[0m\u001b[1;33m(\u001b[0m\u001b[0mself\u001b[0m\u001b[1;33m.\u001b[0m\u001b[0mnb_batches\u001b[0m\u001b[1;33m,\u001b[0m \u001b[0mself\u001b[0m\u001b[1;33m.\u001b[0m\u001b[0miter_update_batch\u001b[0m\u001b[1;33m)\u001b[0m\u001b[1;33m\u001b[0m\u001b[0m\n\u001b[0m\u001b[0;32m     75\u001b[0m         \u001b[1;32mreturn\u001b[0m \u001b[0mself\u001b[0m\u001b[1;33m\u001b[0m\u001b[0m\n\u001b[0;32m     76\u001b[0m \u001b[1;33m\u001b[0m\u001b[0m\n",
      "\u001b[1;32m/grid_mnt/vol__vol_U__u/gridcl/mehdicherti/work/code/lasagnekit/lasagnekit/easy.py\u001b[0m in \u001b[0;36moptimize\u001b[1;34m(self, nb_batches, iter_update_batch)\u001b[0m\n\u001b[0;32m    772\u001b[0m                   \u001b[1;32mlambda\u001b[0m \u001b[0mupdate_status\u001b[0m\u001b[1;33m:\u001b[0m \u001b[0mself\u001b[0m\u001b[1;33m.\u001b[0m\u001b[0mquitter\u001b[0m\u001b[1;33m(\u001b[0m\u001b[0mupdate_status\u001b[0m\u001b[1;33m)\u001b[0m\u001b[1;33m,\u001b[0m\u001b[1;33m\u001b[0m\u001b[0m\n\u001b[0;32m    773\u001b[0m                   \u001b[1;32mlambda\u001b[0m \u001b[0mupdate_status\u001b[0m\u001b[1;33m:\u001b[0m \u001b[0mself\u001b[0m\u001b[1;33m.\u001b[0m\u001b[0mmonitor\u001b[0m\u001b[1;33m(\u001b[0m\u001b[0mupdate_status\u001b[0m\u001b[1;33m)\u001b[0m\u001b[1;33m,\u001b[0m\u001b[1;33m\u001b[0m\u001b[0m\n\u001b[1;32m--> 774\u001b[1;33m                   lambda monitor_output: self.observer(monitor_output))\n\u001b[0m\u001b[0;32m    775\u001b[0m \u001b[1;33m\u001b[0m\u001b[0m\n\u001b[0;32m    776\u001b[0m \u001b[1;33m\u001b[0m\u001b[0m\n",
      "\u001b[1;32m/grid_mnt/vol__vol_U__u/gridcl/mehdicherti/work/code/lasagnekit/lasagnekit/easy.py\u001b[0m in \u001b[0;36mmain_loop\u001b[1;34m(max_nb_epochs, iter_update, quitter, monitor, observer)\u001b[0m\n\u001b[0;32m    154\u001b[0m \u001b[1;32mdef\u001b[0m \u001b[0mmain_loop\u001b[0m\u001b[1;33m(\u001b[0m\u001b[0mmax_nb_epochs\u001b[0m\u001b[1;33m,\u001b[0m \u001b[0miter_update\u001b[0m\u001b[1;33m,\u001b[0m \u001b[0mquitter\u001b[0m\u001b[1;33m,\u001b[0m \u001b[0mmonitor\u001b[0m\u001b[1;33m,\u001b[0m \u001b[0mobserver\u001b[0m\u001b[1;33m)\u001b[0m\u001b[1;33m:\u001b[0m\u001b[1;33m\u001b[0m\u001b[0m\n\u001b[0;32m    155\u001b[0m     \u001b[1;32mfor\u001b[0m \u001b[0mi\u001b[0m \u001b[1;32min\u001b[0m \u001b[0mxrange\u001b[0m\u001b[1;33m(\u001b[0m\u001b[0mmax_nb_epochs\u001b[0m\u001b[1;33m)\u001b[0m\u001b[1;33m:\u001b[0m\u001b[1;33m\u001b[0m\u001b[0m\n\u001b[1;32m--> 156\u001b[1;33m         \u001b[0mupdate_status\u001b[0m \u001b[1;33m=\u001b[0m \u001b[0miter_update\u001b[0m\u001b[1;33m(\u001b[0m\u001b[0mi\u001b[0m\u001b[1;33m)\u001b[0m\u001b[1;33m\u001b[0m\u001b[0m\n\u001b[0m\u001b[0;32m    157\u001b[0m         \u001b[0mmonitor_output\u001b[0m \u001b[1;33m=\u001b[0m \u001b[0mmonitor\u001b[0m\u001b[1;33m(\u001b[0m\u001b[0mupdate_status\u001b[0m\u001b[1;33m)\u001b[0m\u001b[1;33m\u001b[0m\u001b[0m\n\u001b[0;32m    158\u001b[0m         \u001b[0mobserver\u001b[0m\u001b[1;33m(\u001b[0m\u001b[0mmonitor_output\u001b[0m\u001b[1;33m)\u001b[0m\u001b[1;33m\u001b[0m\u001b[0m\n",
      "\u001b[1;32m/grid_mnt/vol__vol_U__u/gridcl/mehdicherti/work/code/lasagnekit/lasagnekit/easy.py\u001b[0m in \u001b[0;36m<lambda>\u001b[1;34m(epoch)\u001b[0m\n\u001b[0;32m    769\u001b[0m         main_loop(self.max_nb_epochs,\n\u001b[0;32m    770\u001b[0m                   lambda epoch: self.iter_update(\n\u001b[1;32m--> 771\u001b[1;33m                       epoch, nb_batches, iter_update_batch),\n\u001b[0m\u001b[0;32m    772\u001b[0m                   \u001b[1;32mlambda\u001b[0m \u001b[0mupdate_status\u001b[0m\u001b[1;33m:\u001b[0m \u001b[0mself\u001b[0m\u001b[1;33m.\u001b[0m\u001b[0mquitter\u001b[0m\u001b[1;33m(\u001b[0m\u001b[0mupdate_status\u001b[0m\u001b[1;33m)\u001b[0m\u001b[1;33m,\u001b[0m\u001b[1;33m\u001b[0m\u001b[0m\n\u001b[0;32m    773\u001b[0m                   \u001b[1;32mlambda\u001b[0m \u001b[0mupdate_status\u001b[0m\u001b[1;33m:\u001b[0m \u001b[0mself\u001b[0m\u001b[1;33m.\u001b[0m\u001b[0mmonitor\u001b[0m\u001b[1;33m(\u001b[0m\u001b[0mupdate_status\u001b[0m\u001b[1;33m)\u001b[0m\u001b[1;33m,\u001b[0m\u001b[1;33m\u001b[0m\u001b[0m\n",
      "\u001b[1;32m<ipython-input-10-59f4ba49cc6c>\u001b[0m in \u001b[0;36miter_update\u001b[1;34m(self, epoch, nb_batches, iter_update_batch)\u001b[0m\n\u001b[0;32m      2\u001b[0m     \u001b[1;31m# called for each epoch during training\u001b[0m\u001b[1;33m\u001b[0m\u001b[1;33m\u001b[0m\u001b[0m\n\u001b[0;32m      3\u001b[0m     \u001b[1;32mdef\u001b[0m \u001b[0miter_update\u001b[0m\u001b[1;33m(\u001b[0m\u001b[0mself\u001b[0m\u001b[1;33m,\u001b[0m \u001b[0mepoch\u001b[0m\u001b[1;33m,\u001b[0m \u001b[0mnb_batches\u001b[0m\u001b[1;33m,\u001b[0m \u001b[0miter_update_batch\u001b[0m\u001b[1;33m)\u001b[0m\u001b[1;33m:\u001b[0m\u001b[1;33m\u001b[0m\u001b[0m\n\u001b[1;32m----> 4\u001b[1;33m         \u001b[0mstatus\u001b[0m \u001b[1;33m=\u001b[0m \u001b[0msuper\u001b[0m\u001b[1;33m(\u001b[0m\u001b[0mMyBatchOptimizer\u001b[0m\u001b[1;33m,\u001b[0m \u001b[0mself\u001b[0m\u001b[1;33m)\u001b[0m\u001b[1;33m.\u001b[0m\u001b[0miter_update\u001b[0m\u001b[1;33m(\u001b[0m\u001b[0mepoch\u001b[0m\u001b[1;33m,\u001b[0m \u001b[0mnb_batches\u001b[0m\u001b[1;33m,\u001b[0m \u001b[0miter_update_batch\u001b[0m\u001b[1;33m)\u001b[0m\u001b[1;33m\u001b[0m\u001b[0m\n\u001b[0m\u001b[0;32m      5\u001b[0m         \u001b[1;32mreturn\u001b[0m \u001b[0mstatus\u001b[0m\u001b[1;33m\u001b[0m\u001b[0m\n\u001b[0;32m      6\u001b[0m \u001b[1;33m\u001b[0m\u001b[0m\n",
      "\u001b[1;32m/grid_mnt/vol__vol_U__u/gridcl/mehdicherti/work/code/lasagnekit/lasagnekit/easy.py\u001b[0m in \u001b[0;36miter_update\u001b[1;34m(self, epoch, nb_batches, iter_update_batch)\u001b[0m\n\u001b[0;32m    688\u001b[0m         \u001b[0mlosses\u001b[0m \u001b[1;33m=\u001b[0m \u001b[1;33m[\u001b[0m\u001b[1;33m]\u001b[0m\u001b[1;33m\u001b[0m\u001b[0m\n\u001b[0;32m    689\u001b[0m         \u001b[1;32mfor\u001b[0m \u001b[0mi\u001b[0m \u001b[1;32min\u001b[0m \u001b[0mrange\u001b[0m\u001b[1;33m(\u001b[0m\u001b[0mnb_batches\u001b[0m\u001b[1;33m)\u001b[0m\u001b[1;33m:\u001b[0m\u001b[1;33m\u001b[0m\u001b[0m\n\u001b[1;32m--> 690\u001b[1;33m             \u001b[0mbatch_loss\u001b[0m \u001b[1;33m=\u001b[0m \u001b[0miter_update_batch\u001b[0m\u001b[1;33m(\u001b[0m\u001b[0mi\u001b[0m\u001b[1;33m)\u001b[0m\u001b[1;33m\u001b[0m\u001b[0m\n\u001b[0m\u001b[0;32m    691\u001b[0m             \u001b[0mlosses\u001b[0m\u001b[1;33m.\u001b[0m\u001b[0mappend\u001b[0m\u001b[1;33m(\u001b[0m\u001b[0mbatch_loss\u001b[0m\u001b[1;33m)\u001b[0m\u001b[1;33m\u001b[0m\u001b[0m\n\u001b[0;32m    692\u001b[0m         \u001b[0mlosses\u001b[0m \u001b[1;33m=\u001b[0m \u001b[0mnp\u001b[0m\u001b[1;33m.\u001b[0m\u001b[0marray\u001b[0m\u001b[1;33m(\u001b[0m\u001b[0mlosses\u001b[0m\u001b[1;33m)\u001b[0m\u001b[1;33m\u001b[0m\u001b[0m\n",
      "\u001b[1;32m/grid_mnt/vol__vol_U__u/gridcl/mehdicherti/work/code/lasagnekit/lasagnekit/generative/capsule.pyc\u001b[0m in \u001b[0;36miter_update_batch\u001b[1;34m(batch_index)\u001b[0m\n\u001b[0;32m    139\u001b[0m                 \u001b[0mV_transformed\u001b[0m \u001b[1;33m=\u001b[0m \u001b[0mbi\u001b[0m\u001b[1;33m.\u001b[0m\u001b[0mtransform\u001b[0m\u001b[1;33m(\u001b[0m\u001b[0mbatch_index\u001b[0m\u001b[1;33m,\u001b[0m \u001b[0mV\u001b[0m\u001b[1;33m)\u001b[0m\u001b[1;33m\u001b[0m\u001b[0m\n\u001b[0;32m    140\u001b[0m                 \u001b[0mparams\u001b[0m \u001b[1;33m=\u001b[0m \u001b[0mV_transformed\u001b[0m\u001b[1;33m.\u001b[0m\u001b[0mvalues\u001b[0m\u001b[1;33m(\u001b[0m\u001b[1;33m)\u001b[0m\u001b[1;33m\u001b[0m\u001b[0m\n\u001b[1;32m--> 141\u001b[1;33m                 \u001b[1;32mreturn\u001b[0m \u001b[0miter_update\u001b[0m\u001b[1;33m(\u001b[0m\u001b[1;33m*\u001b[0m\u001b[0mparams\u001b[0m\u001b[1;33m)\u001b[0m\u001b[1;33m\u001b[0m\u001b[0m\n\u001b[0m\u001b[0;32m    142\u001b[0m         \u001b[0mself\u001b[0m\u001b[1;33m.\u001b[0m\u001b[0miter_update_batch\u001b[0m \u001b[1;33m=\u001b[0m \u001b[0miter_update_batch\u001b[0m\u001b[1;33m\u001b[0m\u001b[0m\n\u001b[0;32m    143\u001b[0m \u001b[1;33m\u001b[0m\u001b[0m\n",
      "\u001b[1;32m/grid_mnt/vol__vol_U__u/gridcl/mehdicherti/build/Theano/theano/compile/function_module.pyc\u001b[0m in \u001b[0;36m__call__\u001b[1;34m(self, *args, **kwargs)\u001b[0m\n\u001b[0;32m    838\u001b[0m         \u001b[0mt0_fn\u001b[0m \u001b[1;33m=\u001b[0m \u001b[0mtime\u001b[0m\u001b[1;33m.\u001b[0m\u001b[0mtime\u001b[0m\u001b[1;33m(\u001b[0m\u001b[1;33m)\u001b[0m\u001b[1;33m\u001b[0m\u001b[0m\n\u001b[0;32m    839\u001b[0m         \u001b[1;32mtry\u001b[0m\u001b[1;33m:\u001b[0m\u001b[1;33m\u001b[0m\u001b[0m\n\u001b[1;32m--> 840\u001b[1;33m             \u001b[0moutputs\u001b[0m \u001b[1;33m=\u001b[0m \u001b[0mself\u001b[0m\u001b[1;33m.\u001b[0m\u001b[0mfn\u001b[0m\u001b[1;33m(\u001b[0m\u001b[1;33m)\u001b[0m\u001b[1;33m\u001b[0m\u001b[0m\n\u001b[0m\u001b[0;32m    841\u001b[0m         \u001b[1;32mexcept\u001b[0m \u001b[0mException\u001b[0m\u001b[1;33m:\u001b[0m\u001b[1;33m\u001b[0m\u001b[0m\n\u001b[0;32m    842\u001b[0m             \u001b[1;32mif\u001b[0m \u001b[0mhasattr\u001b[0m\u001b[1;33m(\u001b[0m\u001b[0mself\u001b[0m\u001b[1;33m.\u001b[0m\u001b[0mfn\u001b[0m\u001b[1;33m,\u001b[0m \u001b[1;34m'position_of_error'\u001b[0m\u001b[1;33m)\u001b[0m\u001b[1;33m:\u001b[0m\u001b[1;33m\u001b[0m\u001b[0m\n",
      "\u001b[1;32m/grid_mnt/vol__vol_U__u/gridcl/mehdicherti/build/Theano/theano/gof/op.pyc\u001b[0m in \u001b[0;36mrval\u001b[1;34m(p, i, o, n)\u001b[0m\n\u001b[0;32m    862\u001b[0m         \u001b[1;32mif\u001b[0m \u001b[0mctx\u001b[0m \u001b[1;32mis\u001b[0m \u001b[0mgraph\u001b[0m\u001b[1;33m.\u001b[0m\u001b[0mNoContext\u001b[0m\u001b[1;33m:\u001b[0m\u001b[1;33m\u001b[0m\u001b[0m\n\u001b[0;32m    863\u001b[0m             \u001b[1;31m# default arguments are stored in the closure of `rval`\u001b[0m\u001b[1;33m\u001b[0m\u001b[1;33m\u001b[0m\u001b[0m\n\u001b[1;32m--> 864\u001b[1;33m             \u001b[1;32mdef\u001b[0m \u001b[0mrval\u001b[0m\u001b[1;33m(\u001b[0m\u001b[0mp\u001b[0m\u001b[1;33m=\u001b[0m\u001b[0mp\u001b[0m\u001b[1;33m,\u001b[0m \u001b[0mi\u001b[0m\u001b[1;33m=\u001b[0m\u001b[0mnode_input_storage\u001b[0m\u001b[1;33m,\u001b[0m \u001b[0mo\u001b[0m\u001b[1;33m=\u001b[0m\u001b[0mnode_output_storage\u001b[0m\u001b[1;33m,\u001b[0m \u001b[0mn\u001b[0m\u001b[1;33m=\u001b[0m\u001b[0mnode\u001b[0m\u001b[1;33m)\u001b[0m\u001b[1;33m:\u001b[0m\u001b[1;33m\u001b[0m\u001b[0m\n\u001b[0m\u001b[0;32m    865\u001b[0m                 \u001b[0mr\u001b[0m \u001b[1;33m=\u001b[0m \u001b[0mp\u001b[0m\u001b[1;33m(\u001b[0m\u001b[0mn\u001b[0m\u001b[1;33m,\u001b[0m \u001b[1;33m[\u001b[0m\u001b[0mx\u001b[0m\u001b[1;33m[\u001b[0m\u001b[1;36m0\u001b[0m\u001b[1;33m]\u001b[0m \u001b[1;32mfor\u001b[0m \u001b[0mx\u001b[0m \u001b[1;32min\u001b[0m \u001b[0mi\u001b[0m\u001b[1;33m]\u001b[0m\u001b[1;33m,\u001b[0m \u001b[0mo\u001b[0m\u001b[1;33m)\u001b[0m\u001b[1;33m\u001b[0m\u001b[0m\n\u001b[0;32m    866\u001b[0m                 \u001b[1;32mfor\u001b[0m \u001b[0mo\u001b[0m \u001b[1;32min\u001b[0m \u001b[0mnode\u001b[0m\u001b[1;33m.\u001b[0m\u001b[0moutputs\u001b[0m\u001b[1;33m:\u001b[0m\u001b[1;33m\u001b[0m\u001b[0m\n",
      "\u001b[1;31mKeyboardInterrupt\u001b[0m: "
     ]
    }
   ],
   "source": [
    "capsule.fit(input_image=X[y==0], input_style_image=X[y==0])"
   ]
  },
  {
   "cell_type": "code",
   "execution_count": 129,
   "metadata": {
    "collapsed": false
   },
   "outputs": [],
   "source": [
    "input_images = X\n",
    "input_images = input_images[np.random.randint(0, input_images.shape[0], size=100)]\n",
    "input_style_images = X\n",
    "input_style_images = input_style_images[np.random.randint(0, input_style_images.shape[0], size=100)]\n",
    "output_images = capsule.get_ouput_blending(input_images, input_style_images)"
   ]
  },
  {
   "cell_type": "code",
   "execution_count": 130,
   "metadata": {
    "collapsed": false
   },
   "outputs": [
    {
     "data": {
      "image/png": "[encoded data removed]",
      "text/plain": [
       "<matplotlib.figure.Figure at 0x7fdab867dd50>"
      ]
     },
     "metadata": {},
     "output_type": "display_data"
    }
   ],
   "source": [
    "fig = plt.figure(figsize=(10, 10))\n",
    "n = 4\n",
    "gridw, gridh = n*3, n*3\n",
    "k = 1\n",
    "ind = 0\n",
    "for i in range(n):\n",
    "    for j in range(n):\n",
    "        plt.subplot(gridw, gridh, k)\n",
    "        plt.axis('off')\n",
    "        plt.imshow(input_images[ind].reshape((w, h)), cmap=\"gray\")\n",
    "        k += 1\n",
    "        plt.subplot(gridw, gridh, k)\n",
    "        plt.axis('off')\n",
    "        plt.imshow(input_style_images[ind].reshape((w, h)), cmap=\"gray\")\n",
    "        k += 1\n",
    "        plt.subplot(gridw, gridh, k)\n",
    "        plt.axis('off')\n",
    "        plt.imshow(output_images[ind].reshape((w, h)), cmap=\"gray\")\n",
    "        k += 1\n",
    "        ind += 1\n",
    "        plt.axis('off')\n",
    "plt.show()"
   ]
  }
 ],
 "metadata": {
  "kernelspec": {
   "display_name": "Python 2",
   "language": "python",
   "name": "python2"
  },
  "language_info": {
   "codemirror_mode": {
    "name": "ipython",
    "version": 2
   },
   "file_extension": ".py",
   "mimetype": "text/x-python",
   "name": "python",
   "nbconvert_exporter": "python",
   "pygments_lexer": "ipython2",
   "version": "2.7.10"
  }
 },
 "nbformat": 4,
 "nbformat_minor": 0
}
